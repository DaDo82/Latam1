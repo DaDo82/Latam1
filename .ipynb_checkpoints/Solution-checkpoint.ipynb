{
 "cells": [
  {
   "cell_type": "markdown",
   "id": "f89e3920",
   "metadata": {},
   "source": [
    "**Ejercicio Latam**: Data Scientist Challenge - LATAM Airlines.\n",
    "\n",
    "**Por**: *David Doncel Ballén*, creado en agosto 10 de 2022.\n",
    "\n",
    "**Code Repository**: https://github.com/DaDo82/Machine-Learning"
   ]
  },
  {
   "cell_type": "markdown",
   "id": "8b1477cf",
   "metadata": {},
   "source": [
    "# Probabilidad de atraso de los vuelos"
   ]
  },
  {
   "cell_type": "markdown",
   "id": "fd8e656d",
   "metadata": {},
   "source": [
    "- Fecha-I : Fecha y hora programada del vuelo.\n",
    "- Vlo-I : Número de vuelo programado.\n",
    "- Ori-I : Código de ciudad de origen programado.\n",
    "- Des-I : Código de ciudad de destino programado.\n",
    "- Emp-I : Código aerolínea de vuelo programado.\n",
    "- Fecha-O : Fecha y hora de operación del vuelo.\n",
    "- Vlo-O : Número de vuelo de operación del vuelo.\n",
    "- Ori-O : Código de ciudad de origen de operación\n",
    "- Des-O : Código de ciudad de destino de operación.\n",
    "- Emp-O : Código aerolínea de vuelo operado.\n",
    "- DIA : Día del mes de operación del vuelo.\n",
    "- MES : Número de mes de operación del vuelo.\n",
    "- AÑO : Año de operación del vuelo.\n",
    "- DIANOM : Día de la semana de operación del vuelo.\n",
    "- TIPOVUELO : Tipo de vuelo, I =Internacional, N =Nacional.\n",
    "- OPERA : Nombre de aerolínea que opera.\n",
    "- SIGLAORI : Nombre ciudad origen.\n",
    "- SIGLADES : Nombre ciudad destino."
   ]
  },
  {
   "cell_type": "markdown",
   "id": "04631e14",
   "metadata": {},
   "source": [
    "## Análisis exploratorio de datos"
   ]
  },
  {
   "cell_type": "code",
   "execution_count": 1,
   "id": "8703a631",
   "metadata": {},
   "outputs": [],
   "source": [
    "# Principales librias que se usaran durante la ejecución del script\n",
    "\n",
    "from pathlib import Path\n",
    "import pandas as pd\n",
    "import numpy as np\n",
    "from scipy.stats import trim_mean\n",
    "from statsmodels import robust\n",
    "import wquantiles\n",
    "\n",
    "import datetime\n",
    "from datetime import datetime\n",
    "from datetime import datetime, date, timedelta\n",
    "\n",
    "import seaborn; seaborn.set()\n",
    "import matplotlib.pylab as plt"
   ]
  },
  {
   "cell_type": "code",
   "execution_count": 2,
   "id": "01d8b6f0",
   "metadata": {},
   "outputs": [],
   "source": [
    "try:\n",
    "    import common\n",
    "    DATASET = common.dataDirectory()\n",
    "except ImportError:\n",
    "    DATASET = Path().resolve() / 'dataset'"
   ]
  },
  {
   "cell_type": "code",
   "execution_count": 3,
   "id": "88c7d98f",
   "metadata": {},
   "outputs": [],
   "source": [
    "# Cargue de datos a Datasets\n",
    "\n",
    "SCL_CSV = DATASET / 'dataset_SCL.csv'\n",
    "METEORO = DATASET / 'meteoro.csv'"
   ]
  },
  {
   "cell_type": "code",
   "execution_count": 4,
   "id": "be9e4620",
   "metadata": {},
   "outputs": [],
   "source": [
    "# Lectura de los datos\n",
    "\n",
    "scl = pd.read_csv(SCL_CSV, low_memory=False)"
   ]
  },
  {
   "cell_type": "code",
   "execution_count": 5,
   "id": "876b0719",
   "metadata": {},
   "outputs": [
    {
     "data": {
      "text/html": [
       "<div>\n",
       "<style scoped>\n",
       "    .dataframe tbody tr th:only-of-type {\n",
       "        vertical-align: middle;\n",
       "    }\n",
       "\n",
       "    .dataframe tbody tr th {\n",
       "        vertical-align: top;\n",
       "    }\n",
       "\n",
       "    .dataframe thead th {\n",
       "        text-align: right;\n",
       "    }\n",
       "</style>\n",
       "<table border=\"1\" class=\"dataframe\">\n",
       "  <thead>\n",
       "    <tr style=\"text-align: right;\">\n",
       "      <th></th>\n",
       "      <th>Fecha-I</th>\n",
       "      <th>Vlo-I</th>\n",
       "      <th>Ori-I</th>\n",
       "      <th>Des-I</th>\n",
       "      <th>Emp-I</th>\n",
       "      <th>Fecha-O</th>\n",
       "      <th>Vlo-O</th>\n",
       "      <th>Ori-O</th>\n",
       "      <th>Des-O</th>\n",
       "      <th>Emp-O</th>\n",
       "      <th>DIA</th>\n",
       "      <th>MES</th>\n",
       "      <th>AÑO</th>\n",
       "      <th>DIANOM</th>\n",
       "      <th>TIPOVUELO</th>\n",
       "      <th>OPERA</th>\n",
       "      <th>SIGLAORI</th>\n",
       "      <th>SIGLADES</th>\n",
       "    </tr>\n",
       "  </thead>\n",
       "  <tbody>\n",
       "    <tr>\n",
       "      <th>count</th>\n",
       "      <td>68205</td>\n",
       "      <td>68205</td>\n",
       "      <td>68205</td>\n",
       "      <td>68205</td>\n",
       "      <td>68205</td>\n",
       "      <td>68205</td>\n",
       "      <td>68205</td>\n",
       "      <td>68205</td>\n",
       "      <td>68205</td>\n",
       "      <td>68205</td>\n",
       "      <td>68205.000000</td>\n",
       "      <td>68205.000000</td>\n",
       "      <td>68205.000000</td>\n",
       "      <td>68205</td>\n",
       "      <td>68205</td>\n",
       "      <td>68205</td>\n",
       "      <td>68205</td>\n",
       "      <td>68205</td>\n",
       "    </tr>\n",
       "    <tr>\n",
       "      <th>unique</th>\n",
       "      <td>53252</td>\n",
       "      <td>584</td>\n",
       "      <td>1</td>\n",
       "      <td>64</td>\n",
       "      <td>30</td>\n",
       "      <td>62774</td>\n",
       "      <td>861</td>\n",
       "      <td>1</td>\n",
       "      <td>63</td>\n",
       "      <td>32</td>\n",
       "      <td>NaN</td>\n",
       "      <td>NaN</td>\n",
       "      <td>NaN</td>\n",
       "      <td>7</td>\n",
       "      <td>2</td>\n",
       "      <td>23</td>\n",
       "      <td>1</td>\n",
       "      <td>62</td>\n",
       "    </tr>\n",
       "    <tr>\n",
       "      <th>top</th>\n",
       "      <td>2017-07-28 13:30:00</td>\n",
       "      <td>174</td>\n",
       "      <td>SCEL</td>\n",
       "      <td>SCFA</td>\n",
       "      <td>LAN</td>\n",
       "      <td>2017-05-19 07:01:00</td>\n",
       "      <td>174</td>\n",
       "      <td>SCEL</td>\n",
       "      <td>SCFA</td>\n",
       "      <td>LAN</td>\n",
       "      <td>NaN</td>\n",
       "      <td>NaN</td>\n",
       "      <td>NaN</td>\n",
       "      <td>Viernes</td>\n",
       "      <td>N</td>\n",
       "      <td>Grupo LATAM</td>\n",
       "      <td>Santiago</td>\n",
       "      <td>Buenos Aires</td>\n",
       "    </tr>\n",
       "    <tr>\n",
       "      <th>freq</th>\n",
       "      <td>6</td>\n",
       "      <td>686</td>\n",
       "      <td>68205</td>\n",
       "      <td>5787</td>\n",
       "      <td>37611</td>\n",
       "      <td>5</td>\n",
       "      <td>649</td>\n",
       "      <td>68205</td>\n",
       "      <td>5786</td>\n",
       "      <td>20988</td>\n",
       "      <td>NaN</td>\n",
       "      <td>NaN</td>\n",
       "      <td>NaN</td>\n",
       "      <td>10292</td>\n",
       "      <td>36966</td>\n",
       "      <td>40892</td>\n",
       "      <td>68205</td>\n",
       "      <td>6335</td>\n",
       "    </tr>\n",
       "    <tr>\n",
       "      <th>mean</th>\n",
       "      <td>NaN</td>\n",
       "      <td>NaN</td>\n",
       "      <td>NaN</td>\n",
       "      <td>NaN</td>\n",
       "      <td>NaN</td>\n",
       "      <td>NaN</td>\n",
       "      <td>NaN</td>\n",
       "      <td>NaN</td>\n",
       "      <td>NaN</td>\n",
       "      <td>NaN</td>\n",
       "      <td>15.714742</td>\n",
       "      <td>6.622667</td>\n",
       "      <td>2017.000029</td>\n",
       "      <td>NaN</td>\n",
       "      <td>NaN</td>\n",
       "      <td>NaN</td>\n",
       "      <td>NaN</td>\n",
       "      <td>NaN</td>\n",
       "    </tr>\n",
       "    <tr>\n",
       "      <th>std</th>\n",
       "      <td>NaN</td>\n",
       "      <td>NaN</td>\n",
       "      <td>NaN</td>\n",
       "      <td>NaN</td>\n",
       "      <td>NaN</td>\n",
       "      <td>NaN</td>\n",
       "      <td>NaN</td>\n",
       "      <td>NaN</td>\n",
       "      <td>NaN</td>\n",
       "      <td>NaN</td>\n",
       "      <td>8.782941</td>\n",
       "      <td>3.523281</td>\n",
       "      <td>0.005415</td>\n",
       "      <td>NaN</td>\n",
       "      <td>NaN</td>\n",
       "      <td>NaN</td>\n",
       "      <td>NaN</td>\n",
       "      <td>NaN</td>\n",
       "    </tr>\n",
       "    <tr>\n",
       "      <th>min</th>\n",
       "      <td>NaN</td>\n",
       "      <td>NaN</td>\n",
       "      <td>NaN</td>\n",
       "      <td>NaN</td>\n",
       "      <td>NaN</td>\n",
       "      <td>NaN</td>\n",
       "      <td>NaN</td>\n",
       "      <td>NaN</td>\n",
       "      <td>NaN</td>\n",
       "      <td>NaN</td>\n",
       "      <td>1.000000</td>\n",
       "      <td>1.000000</td>\n",
       "      <td>2017.000000</td>\n",
       "      <td>NaN</td>\n",
       "      <td>NaN</td>\n",
       "      <td>NaN</td>\n",
       "      <td>NaN</td>\n",
       "      <td>NaN</td>\n",
       "    </tr>\n",
       "    <tr>\n",
       "      <th>25%</th>\n",
       "      <td>NaN</td>\n",
       "      <td>NaN</td>\n",
       "      <td>NaN</td>\n",
       "      <td>NaN</td>\n",
       "      <td>NaN</td>\n",
       "      <td>NaN</td>\n",
       "      <td>NaN</td>\n",
       "      <td>NaN</td>\n",
       "      <td>NaN</td>\n",
       "      <td>NaN</td>\n",
       "      <td>8.000000</td>\n",
       "      <td>3.000000</td>\n",
       "      <td>2017.000000</td>\n",
       "      <td>NaN</td>\n",
       "      <td>NaN</td>\n",
       "      <td>NaN</td>\n",
       "      <td>NaN</td>\n",
       "      <td>NaN</td>\n",
       "    </tr>\n",
       "    <tr>\n",
       "      <th>50%</th>\n",
       "      <td>NaN</td>\n",
       "      <td>NaN</td>\n",
       "      <td>NaN</td>\n",
       "      <td>NaN</td>\n",
       "      <td>NaN</td>\n",
       "      <td>NaN</td>\n",
       "      <td>NaN</td>\n",
       "      <td>NaN</td>\n",
       "      <td>NaN</td>\n",
       "      <td>NaN</td>\n",
       "      <td>16.000000</td>\n",
       "      <td>7.000000</td>\n",
       "      <td>2017.000000</td>\n",
       "      <td>NaN</td>\n",
       "      <td>NaN</td>\n",
       "      <td>NaN</td>\n",
       "      <td>NaN</td>\n",
       "      <td>NaN</td>\n",
       "    </tr>\n",
       "    <tr>\n",
       "      <th>75%</th>\n",
       "      <td>NaN</td>\n",
       "      <td>NaN</td>\n",
       "      <td>NaN</td>\n",
       "      <td>NaN</td>\n",
       "      <td>NaN</td>\n",
       "      <td>NaN</td>\n",
       "      <td>NaN</td>\n",
       "      <td>NaN</td>\n",
       "      <td>NaN</td>\n",
       "      <td>NaN</td>\n",
       "      <td>23.000000</td>\n",
       "      <td>10.000000</td>\n",
       "      <td>2017.000000</td>\n",
       "      <td>NaN</td>\n",
       "      <td>NaN</td>\n",
       "      <td>NaN</td>\n",
       "      <td>NaN</td>\n",
       "      <td>NaN</td>\n",
       "    </tr>\n",
       "    <tr>\n",
       "      <th>max</th>\n",
       "      <td>NaN</td>\n",
       "      <td>NaN</td>\n",
       "      <td>NaN</td>\n",
       "      <td>NaN</td>\n",
       "      <td>NaN</td>\n",
       "      <td>NaN</td>\n",
       "      <td>NaN</td>\n",
       "      <td>NaN</td>\n",
       "      <td>NaN</td>\n",
       "      <td>NaN</td>\n",
       "      <td>31.000000</td>\n",
       "      <td>12.000000</td>\n",
       "      <td>2018.000000</td>\n",
       "      <td>NaN</td>\n",
       "      <td>NaN</td>\n",
       "      <td>NaN</td>\n",
       "      <td>NaN</td>\n",
       "      <td>NaN</td>\n",
       "    </tr>\n",
       "  </tbody>\n",
       "</table>\n",
       "</div>"
      ],
      "text/plain": [
       "                    Fecha-I  Vlo-I  Ori-I  Des-I  Emp-I              Fecha-O  \\\n",
       "count                 68205  68205  68205  68205  68205                68205   \n",
       "unique                53252    584      1     64     30                62774   \n",
       "top     2017-07-28 13:30:00    174   SCEL   SCFA    LAN  2017-05-19 07:01:00   \n",
       "freq                      6    686  68205   5787  37611                    5   \n",
       "mean                    NaN    NaN    NaN    NaN    NaN                  NaN   \n",
       "std                     NaN    NaN    NaN    NaN    NaN                  NaN   \n",
       "min                     NaN    NaN    NaN    NaN    NaN                  NaN   \n",
       "25%                     NaN    NaN    NaN    NaN    NaN                  NaN   \n",
       "50%                     NaN    NaN    NaN    NaN    NaN                  NaN   \n",
       "75%                     NaN    NaN    NaN    NaN    NaN                  NaN   \n",
       "max                     NaN    NaN    NaN    NaN    NaN                  NaN   \n",
       "\n",
       "        Vlo-O  Ori-O  Des-O  Emp-O           DIA           MES           AÑO  \\\n",
       "count   68205  68205  68205  68205  68205.000000  68205.000000  68205.000000   \n",
       "unique    861      1     63     32           NaN           NaN           NaN   \n",
       "top       174   SCEL   SCFA    LAN           NaN           NaN           NaN   \n",
       "freq      649  68205   5786  20988           NaN           NaN           NaN   \n",
       "mean      NaN    NaN    NaN    NaN     15.714742      6.622667   2017.000029   \n",
       "std       NaN    NaN    NaN    NaN      8.782941      3.523281      0.005415   \n",
       "min       NaN    NaN    NaN    NaN      1.000000      1.000000   2017.000000   \n",
       "25%       NaN    NaN    NaN    NaN      8.000000      3.000000   2017.000000   \n",
       "50%       NaN    NaN    NaN    NaN     16.000000      7.000000   2017.000000   \n",
       "75%       NaN    NaN    NaN    NaN     23.000000     10.000000   2017.000000   \n",
       "max       NaN    NaN    NaN    NaN     31.000000     12.000000   2018.000000   \n",
       "\n",
       "         DIANOM TIPOVUELO        OPERA  SIGLAORI      SIGLADES  \n",
       "count     68205     68205        68205     68205         68205  \n",
       "unique        7         2           23         1            62  \n",
       "top     Viernes         N  Grupo LATAM  Santiago  Buenos Aires  \n",
       "freq      10292     36966        40892     68205          6335  \n",
       "mean        NaN       NaN          NaN       NaN           NaN  \n",
       "std         NaN       NaN          NaN       NaN           NaN  \n",
       "min         NaN       NaN          NaN       NaN           NaN  \n",
       "25%         NaN       NaN          NaN       NaN           NaN  \n",
       "50%         NaN       NaN          NaN       NaN           NaN  \n",
       "75%         NaN       NaN          NaN       NaN           NaN  \n",
       "max         NaN       NaN          NaN       NaN           NaN  "
      ]
     },
     "execution_count": 5,
     "metadata": {},
     "output_type": "execute_result"
    }
   ],
   "source": [
    "#Exploración de los datos\n",
    "\n",
    "scl.dropna().describe(include='all', datetime_is_numeric=True)"
   ]
  },
  {
   "cell_type": "markdown",
   "id": "c9a350db",
   "metadata": {},
   "source": [
    "## 1. ¿Cómo se distribuyen los datos?"
   ]
  },
  {
   "cell_type": "markdown",
   "id": "a6ba969f",
   "metadata": {},
   "source": [
    "La fila \"unique\" nos indica el número de valores diferentes que hay. Por ejemplo, tenemos 23 valores diferentes para la columna OPERA, es decir 23 aerolineas operan en el aeropuerto de Santigo de Chile."
   ]
  },
  {
   "cell_type": "markdown",
   "id": "98a2ea2e",
   "metadata": {},
   "source": [
    "### ¿Qué te llama la atención o cuál es tu conclusión sobre esto?"
   ]
  },
  {
   "cell_type": "markdown",
   "id": "c364df1c",
   "metadata": {},
   "source": [
    "No hay datos númericos para incluir en el diseño de modelo y su explicación, todas las varibales son categoricas, por lo cual, llama la atención que son datos que requierien ser transformados para diseñar el respectivo modelo.\n",
    "Tambien se aprecia que no hay datos faltantes, lo cual garantiza el uso total de los datos.\n",
    "\n",
    "Por otra parte, se aprecia que las variables corresponden a labores técnicas de la operación, por esto, me interesa poder complementar los datos con variables meteorológicas y examinar si este factor tiene incidencia en la predicción del modelo."
   ]
  },
  {
   "cell_type": "markdown",
   "id": "7b1a86a8",
   "metadata": {},
   "source": [
    "## 2. Genera las columnas adicionales y luego expórtelas en un archivo synthetic_features.csv"
   ]
  },
  {
   "cell_type": "code",
   "execution_count": 6,
   "id": "e3065e49",
   "metadata": {},
   "outputs": [],
   "source": [
    "#Cálculo de la primera variable \"temporada_alta\"\n",
    "\n",
    "conditionlist = [\n",
    "    (scl['Fecha-I'] >= '2017-12-15'),\n",
    "    (scl['Fecha-I'] <= '2017-03-03'),\n",
    "    (scl['Fecha-I'] >= '2017-07-15') & (scl['Fecha-I'] <'2017-07-31'),\n",
    "    (scl['Fecha-I'] >= '2017-09-11') & (scl['Fecha-I'] <'2017-09-30')]\n",
    "choicelist = [1, 1,  1, 1]\n",
    "scl['temporada_alta'] = np.select(conditionlist, choicelist, default= 0)"
   ]
  },
  {
   "cell_type": "code",
   "execution_count": 7,
   "id": "6434cdc7",
   "metadata": {},
   "outputs": [
    {
     "name": "stdout",
     "output_type": "stream",
     "text": [
      "Fecha-I\n",
      "2017-01-01 23:30:00    3.0\n",
      "2017-01-02 23:30:00    9.0\n",
      "2017-01-03 23:30:00    9.0\n",
      "2017-01-04 23:30:00    3.0\n",
      "2017-01-05 23:30:00    2.0\n",
      "Name: dif_min, dtype: float64\n"
     ]
    }
   ],
   "source": [
    "# Cálculo de la segunda variable \"dif_min\"\n",
    "\n",
    "scl['Fecha-O']= pd.to_datetime(scl['Fecha-O'], format='%Y-%m-%d %H:%M:%S')\n",
    "#scl['Fecha-I']=scl.Fecha-I.map(lambda x : datatime.strptime(x, '%d/%m/%Y %H:%M:%S'))\n",
    "scl['Fecha-I']= pd.to_datetime(scl['Fecha-I'], format='%Y-%m-%d %H:%M:%S')\n",
    "# reindexar el dataframe\n",
    "scl.index = scl['Fecha-I']\n",
    "\n",
    "scl['dif_min'] = scl['Fecha-O'] - scl['Fecha-I']\n",
    "scl['dif_min']=abs(scl['dif_min'] / timedelta(minutes=1))\n",
    "print(scl['dif_min'].head(5))"
   ]
  },
  {
   "cell_type": "code",
   "execution_count": 8,
   "id": "a66ee777",
   "metadata": {},
   "outputs": [],
   "source": [
    "#Cálculo de la tercera variable \"atraso_15\"\n",
    "\n",
    "conditionlist = [\n",
    "    (scl['dif_min'] > 15)]\n",
    "choicelist = [1]\n",
    "scl['atraso_15'] = np.select(conditionlist, choicelist, default= 0)"
   ]
  },
  {
   "cell_type": "code",
   "execution_count": 9,
   "id": "4f03a7b0",
   "metadata": {},
   "outputs": [],
   "source": [
    "#Cálculo de la cuarta variable \"periodo_dia\"\n",
    "\n",
    "scl['Fecha_seg']=(scl['Fecha-I'].dt.strftime('%H%M%S')).astype(int)/100\n",
    "\n",
    "conditionlist = [\n",
    "    (scl['Fecha_seg'] >= 500) & (scl['Fecha_seg'] <= 1159),\n",
    "    (scl['Fecha_seg'] >= 1200) & (scl['Fecha_seg'] <= 1859),\n",
    "    (scl['Fecha_seg'] >= 1900),\n",
    "    (scl['Fecha_seg'] <= 459)]\n",
    "choicelist = ['mañana', 'tarde', 'noche', 'noche']\n",
    "\n",
    "scl['periodo_dia'] = np.select(conditionlist, choicelist, default= 'Not Specified')\n"
   ]
  },
  {
   "cell_type": "code",
   "execution_count": 10,
   "id": "65388926",
   "metadata": {},
   "outputs": [],
   "source": [
    "#Cálculo de la cuarta variable \"periodo_dia\"\n",
    "scl['Fecha_seg']=(scl['Fecha-I'].dt.strftime('%H%M%S')).astype(int)/100\n",
    "\n",
    "conditionlist = [\n",
    "    (scl['Fecha_seg'] >= 500) & (scl['Fecha_seg'] <= 1159),\n",
    "    (scl['Fecha_seg'] >= 1200) & (scl['Fecha_seg'] <= 1859),\n",
    "    (scl['Fecha_seg'] >= 1900),\n",
    "    (scl['Fecha_seg'] <= 459)]\n",
    "choicelist = ['1', '2', '3', '3']\n",
    "\n",
    "scl['periodo_dia2'] = np.select(conditionlist, choicelist, default= 'Not Specified')"
   ]
  },
  {
   "cell_type": "code",
   "execution_count": 11,
   "id": "3018a106",
   "metadata": {},
   "outputs": [],
   "source": [
    "# Exportando a un archivo csv las variables creadas\n",
    "\n",
    "scl[['temporada_alta', 'dif_min','atraso_15','periodo_dia']].to_csv('synthetic_features.csv', encoding = 'utf-8')"
   ]
  },
  {
   "cell_type": "markdown",
   "id": "032bbc1e",
   "metadata": {},
   "source": [
    "## 3. ¿Cómo se compone la tasa de atraso por destino, aerolínea, mes del año, día de la semana, temporada, tipo de vuelo?"
   ]
  },
  {
   "cell_type": "markdown",
   "id": "7cd57d74",
   "metadata": {},
   "source": [
    "Las siguientes gráficas muestran el comportamiento del atraso en minutos en diferentes temporalidades (año, semana, dia y horas). Esto permite identificar cambios en las tasas para ciertos puntos o momentos."
   ]
  },
  {
   "cell_type": "code",
   "execution_count": 12,
   "id": "ee7f7f47",
   "metadata": {},
   "outputs": [
    {
     "data": {
      "image/png": "[encoded data removed]",
      "text/plain": [
       "<Figure size 432x288 with 1 Axes>"
      ]
     },
     "metadata": {},
     "output_type": "display_data"
    }
   ],
   "source": [
    "# Análisis visual del comportamiento de atraso semanal\n",
    "\n",
    "scl['dif_min'].plot()\n",
    "weekly = scl['dif_min'].resample('W').sum()\n",
    "weekly.plot(style=['--',])\n",
    "plt.ylabel('suma tiempo de atraso semanal');"
   ]
  },
  {
   "cell_type": "code",
   "execution_count": 13,
   "id": "35b912d3",
   "metadata": {},
   "outputs": [
    {
     "data": {
      "text/plain": [
       "Fecha-I\n",
       "2017-01-01 23:30:00         NaN\n",
       "2017-01-02 23:30:00    3.000000\n",
       "2017-01-03 23:30:00    3.000000\n",
       "2017-01-04 23:30:00    1.000000\n",
       "2017-01-05 23:30:00    0.666667\n",
       "Name: rend_diario, dtype: float64"
      ]
     },
     "execution_count": 13,
     "metadata": {},
     "output_type": "execute_result"
    },
    {
     "data": {
      "image/png": "[encoded data removed]",
      "text/plain": [
       "<Figure size 432x288 with 1 Axes>"
      ]
     },
     "metadata": {},
     "output_type": "display_data"
    }
   ],
   "source": [
    "# Análisis visual del comportamiento de atraso diario\n",
    "\n",
    "daily = scl['dif_min'].resample('D').mean()\n",
    "daily.rolling(30, center=True).sum().plot(style=['--'])\n",
    "plt.ylabel('Promedio de atraso diario');\n",
    "\n",
    "# calculando rendimiento acumulado diario para identificar los cambios significativos, como sucede en los días de Julio.\n",
    "rendimiento_diario = (1 + scl['dif_min'].pct_change()).cumprod()\n",
    "scl['rend_diario'] = rendimiento_diario\n",
    "scl['rend_diario'][:5]"
   ]
  },
  {
   "cell_type": "code",
   "execution_count": 14,
   "id": "b31c0e4c",
   "metadata": {},
   "outputs": [
    {
     "data": {
      "image/png": "[encoded data removed]",
      "text/plain": [
       "<Figure size 432x288 with 1 Axes>"
      ]
     },
     "metadata": {},
     "output_type": "display_data"
    }
   ],
   "source": [
    "# Análisis visual del comportamiento de atraso en horas del día.\n",
    "\n",
    "by_time = scl['dif_min'].groupby(scl['dif_min'].index.time).mean()\n",
    "hourly_ticks = 4 * 60 * 60 * np.arange(6)\n",
    "by_time.plot(xticks=hourly_ticks, style=['--'])\n",
    "plt.ylabel('Promedio de atraso por horas');"
   ]
  },
  {
   "cell_type": "code",
   "execution_count": 15,
   "id": "861acbc0",
   "metadata": {},
   "outputs": [
    {
     "data": {
      "image/png": "[encoded data removed]",
      "text/plain": [
       "<Figure size 432x288 with 1 Axes>"
      ]
     },
     "metadata": {},
     "output_type": "display_data"
    }
   ],
   "source": [
    "# Análisis visual del comportamiento de atraso diario semanal\n",
    "\n",
    "by_weekday = scl['dif_min'].groupby(scl['dif_min'].index.dayofweek).mean()\n",
    "by_weekday.index = ['Mon', 'Tues', 'Wed', 'Thurs', 'Fri', 'Sat', 'Sun']\n",
    "by_weekday.plot(style=['--'])\n",
    "plt.ylabel('Promedio de atraso diario semanal');"
   ]
  },
  {
   "cell_type": "code",
   "execution_count": 16,
   "id": "b30bebed",
   "metadata": {},
   "outputs": [
    {
     "data": {
      "image/png": "[encoded data removed]",
      "text/plain": [
       "<Figure size 1008x360 with 2 Axes>"
      ]
     },
     "metadata": {},
     "output_type": "display_data"
    }
   ],
   "source": [
    "# Análisis visual del comportamiento de atraso en días habiles y fines de semana\n",
    "\n",
    "weekend = np.where(scl['dif_min'].index.weekday < 5, 'Weekday', 'Weekend')\n",
    "by_time = scl['dif_min'].groupby([weekend, scl['dif_min'].index.time]).mean()\n",
    "\n",
    "\n",
    "import matplotlib.pyplot as plt\n",
    "fig, ax = plt.subplots(1, 2, figsize=(14, 5))\n",
    "by_time['Weekday'].plot(ax=ax[0], title='Promedio de atraso por horas en días habiles',\n",
    "                           xticks=hourly_ticks, style=['--']);\n",
    "by_time['Weekend'].plot(ax=ax[1], title='Promedio de atraso por horas fines de semana',\n",
    "                           xticks=hourly_ticks, style=[ '--']);"
   ]
  },
  {
   "cell_type": "markdown",
   "id": "a3365598",
   "metadata": {},
   "source": [
    "Por lo tanto, las variables que incluyen la temporalidad categorizada son candidatas a incluir en el modelo."
   ]
  },
  {
   "cell_type": "markdown",
   "id": "c61141d4",
   "metadata": {},
   "source": [
    "### ¿Qué variables esperarías que más influyeran en predecir atrasos?"
   ]
  },
  {
   "cell_type": "markdown",
   "id": "75cda5ef",
   "metadata": {},
   "source": [
    "Del set de datos proporcionados las variables que pueden influir son:\n",
    "- fecha (día y época del año)\n",
    "- hora del vuelo\n",
    "- Aerolinea.\n",
    "\n",
    "Y en cuanto a los datos gestionados: la precipitación, la velocidad y dirección del viento, la nubosidad que puede inferirse por cantidad irradiancia y la temperatura."
   ]
  },
  {
   "cell_type": "markdown",
   "id": "36b680b9",
   "metadata": {},
   "source": [
    "## 4. Entrena uno o varios modelos (usando el/los algoritmo(s) que prefieras) para estimar la probabilidad de atraso de un vuelo. Siéntete libre de generar variables adicionales y/o complementar con variables externas."
   ]
  },
  {
   "cell_type": "markdown",
   "id": "7768be1f",
   "metadata": {},
   "source": [
    "### Adicionando varibles meteorológicas de la NASA"
   ]
  },
  {
   "cell_type": "markdown",
   "id": "3d41281f",
   "metadata": {},
   "source": [
    "- Fuente: https://power.larc.nasa.gov/data-access-viewer/  **\n",
    "- Postal code: 9020000\n",
    "- Postal address: Aeropuerto Internacional Comodoro Arturo Merino Benítez, \n",
    "- Capitán Manuel Ávalos Prado, \n",
    "- Pudahuel, \n",
    "- Provincia de Santiago, \n",
    "- Región Metropolitana de Santiago, \n",
    "- 9020000, \n",
    "- Chile\n",
    "\n",
    "** En esta página web se tuvo acceso a los datos de meteorología."
   ]
  },
  {
   "cell_type": "markdown",
   "id": "e57bf6bd",
   "metadata": {},
   "source": [
    "#### Variables meteorologicas, fuente: NASA Prediction of Worldwide Energy Resource (POWER), disponible en web https://power.larc.nasa.gov/data-access-viewer/, consultado el día 10/08/2022\n",
    "\n",
    "- PRECTOTCORR           MERRA-2 Precipitation Corrected (mm/day) \n",
    "- T2M                   MERRA-2 Temperature at 2 Meters (C) \n",
    "- ALLSKY_SFC_SW_DWN     CERES SYN1deg All Sky Surface Shortwave Downward Irradiance (kW-hr/m^2/day) \n",
    "- CLRSKY_SFC_SW_DWN     CERES SYN1deg Clear Sky Surface Shortwave Downward Irradiance (kW-hr/m^2/day) \n",
    "- WS2M                  MERRA-2 Wind Speed at 2 Meters (m/s) \n",
    "- WS50M                 MERRA-2 Wind Speed at 50 Meters (m/s) \n",
    "- WD50M                 MERRA-2 Wind Direction at 50 Meters (Degrees) \n"
   ]
  },
  {
   "cell_type": "code",
   "execution_count": 17,
   "id": "0feb2ee6",
   "metadata": {},
   "outputs": [
    {
     "name": "stdout",
     "output_type": "stream",
     "text": [
      "       DATE  YEAR  MO  DY  PRECTOTCORR    T2M  ALLSKY_SFC_SW_DWN  \\\n",
      "0  2017-1-1  2017   1   1          0.0  22.72               9.57   \n",
      "1  2017-1-2  2017   1   2          0.0  23.04               9.67   \n",
      "2  2017-1-3  2017   1   3          0.0  21.57               8.20   \n",
      "3  2017-1-4  2017   1   4          0.0  21.87               9.73   \n",
      "4  2017-1-5  2017   1   5          0.0  23.25               9.65   \n",
      "\n",
      "   CLRSKY_SFC_SW_DWN  WS2M  WS50M   WD50M  \n",
      "0               9.83  2.05   3.02  183.62  \n",
      "1               9.91  2.06   3.14  181.06  \n",
      "2               9.90  2.12   3.37  184.06  \n",
      "3               9.98  2.02   3.17  179.19  \n",
      "4               9.84  2.19   3.30  182.31  \n"
     ]
    }
   ],
   "source": [
    "# Creación del daset con datos meteorológicos\n",
    "\n",
    "mtr = pd.read_csv(METEORO, low_memory=False)\n",
    "print(mtr.head(5))"
   ]
  },
  {
   "cell_type": "code",
   "execution_count": 18,
   "id": "c725d62e",
   "metadata": {},
   "outputs": [],
   "source": [
    "# Generación del campo que servira de llave para la unión con los datos de los vuelos\n",
    "\n",
    "scl['Fecha_J']=scl['AÑO'].apply(str)+ \"-\" +scl['MES'].apply(str)+ \"-\" +scl['DIA'].apply(str)"
   ]
  },
  {
   "cell_type": "code",
   "execution_count": 19,
   "id": "fdba5a1a",
   "metadata": {},
   "outputs": [],
   "source": [
    "# Se crea un nuevo Dataset resultado del join\n",
    "\n",
    "result = pd.merge(left = scl, right = mtr, how='left', left_on='Fecha_J',right_on=\"DATE\")"
   ]
  },
  {
   "cell_type": "code",
   "execution_count": 20,
   "id": "309a1059",
   "metadata": {},
   "outputs": [
    {
     "data": {
      "text/html": [
       "<div>\n",
       "<style scoped>\n",
       "    .dataframe tbody tr th:only-of-type {\n",
       "        vertical-align: middle;\n",
       "    }\n",
       "\n",
       "    .dataframe tbody tr th {\n",
       "        vertical-align: top;\n",
       "    }\n",
       "\n",
       "    .dataframe thead th {\n",
       "        text-align: right;\n",
       "    }\n",
       "</style>\n",
       "<table border=\"1\" class=\"dataframe\">\n",
       "  <thead>\n",
       "    <tr style=\"text-align: right;\">\n",
       "      <th></th>\n",
       "      <th>Fecha-I</th>\n",
       "      <th>Vlo-I</th>\n",
       "      <th>Ori-I</th>\n",
       "      <th>Des-I</th>\n",
       "      <th>Emp-I</th>\n",
       "      <th>Fecha-O</th>\n",
       "      <th>Vlo-O</th>\n",
       "      <th>Ori-O</th>\n",
       "      <th>Des-O</th>\n",
       "      <th>Emp-O</th>\n",
       "      <th>...</th>\n",
       "      <th>YEAR</th>\n",
       "      <th>MO</th>\n",
       "      <th>DY</th>\n",
       "      <th>PRECTOTCORR</th>\n",
       "      <th>T2M</th>\n",
       "      <th>ALLSKY_SFC_SW_DWN</th>\n",
       "      <th>CLRSKY_SFC_SW_DWN</th>\n",
       "      <th>WS2M</th>\n",
       "      <th>WS50M</th>\n",
       "      <th>WD50M</th>\n",
       "    </tr>\n",
       "  </thead>\n",
       "  <tbody>\n",
       "    <tr>\n",
       "      <th>count</th>\n",
       "      <td>68206</td>\n",
       "      <td>68206</td>\n",
       "      <td>68206</td>\n",
       "      <td>68206</td>\n",
       "      <td>68206</td>\n",
       "      <td>68206</td>\n",
       "      <td>68205</td>\n",
       "      <td>68206</td>\n",
       "      <td>68206</td>\n",
       "      <td>68206</td>\n",
       "      <td>...</td>\n",
       "      <td>68206.000000</td>\n",
       "      <td>68206.000000</td>\n",
       "      <td>68206.000000</td>\n",
       "      <td>68206.000000</td>\n",
       "      <td>68206.000000</td>\n",
       "      <td>68206.000000</td>\n",
       "      <td>68206.000000</td>\n",
       "      <td>68206.000000</td>\n",
       "      <td>68206.000000</td>\n",
       "      <td>68206.000000</td>\n",
       "    </tr>\n",
       "    <tr>\n",
       "      <th>unique</th>\n",
       "      <td>NaN</td>\n",
       "      <td>584</td>\n",
       "      <td>1</td>\n",
       "      <td>64</td>\n",
       "      <td>30</td>\n",
       "      <td>NaN</td>\n",
       "      <td>861</td>\n",
       "      <td>1</td>\n",
       "      <td>63</td>\n",
       "      <td>32</td>\n",
       "      <td>...</td>\n",
       "      <td>NaN</td>\n",
       "      <td>NaN</td>\n",
       "      <td>NaN</td>\n",
       "      <td>NaN</td>\n",
       "      <td>NaN</td>\n",
       "      <td>NaN</td>\n",
       "      <td>NaN</td>\n",
       "      <td>NaN</td>\n",
       "      <td>NaN</td>\n",
       "      <td>NaN</td>\n",
       "    </tr>\n",
       "    <tr>\n",
       "      <th>top</th>\n",
       "      <td>NaN</td>\n",
       "      <td>174</td>\n",
       "      <td>SCEL</td>\n",
       "      <td>SCFA</td>\n",
       "      <td>LAN</td>\n",
       "      <td>NaN</td>\n",
       "      <td>174</td>\n",
       "      <td>SCEL</td>\n",
       "      <td>SCFA</td>\n",
       "      <td>LAN</td>\n",
       "      <td>...</td>\n",
       "      <td>NaN</td>\n",
       "      <td>NaN</td>\n",
       "      <td>NaN</td>\n",
       "      <td>NaN</td>\n",
       "      <td>NaN</td>\n",
       "      <td>NaN</td>\n",
       "      <td>NaN</td>\n",
       "      <td>NaN</td>\n",
       "      <td>NaN</td>\n",
       "      <td>NaN</td>\n",
       "    </tr>\n",
       "    <tr>\n",
       "      <th>freq</th>\n",
       "      <td>NaN</td>\n",
       "      <td>686</td>\n",
       "      <td>68206</td>\n",
       "      <td>5787</td>\n",
       "      <td>37611</td>\n",
       "      <td>NaN</td>\n",
       "      <td>649</td>\n",
       "      <td>68206</td>\n",
       "      <td>5786</td>\n",
       "      <td>20988</td>\n",
       "      <td>...</td>\n",
       "      <td>NaN</td>\n",
       "      <td>NaN</td>\n",
       "      <td>NaN</td>\n",
       "      <td>NaN</td>\n",
       "      <td>NaN</td>\n",
       "      <td>NaN</td>\n",
       "      <td>NaN</td>\n",
       "      <td>NaN</td>\n",
       "      <td>NaN</td>\n",
       "      <td>NaN</td>\n",
       "    </tr>\n",
       "    <tr>\n",
       "      <th>mean</th>\n",
       "      <td>2017-07-05 12:11:25.320059648</td>\n",
       "      <td>NaN</td>\n",
       "      <td>NaN</td>\n",
       "      <td>NaN</td>\n",
       "      <td>NaN</td>\n",
       "      <td>2017-07-05 12:20:31.971380992</td>\n",
       "      <td>NaN</td>\n",
       "      <td>NaN</td>\n",
       "      <td>NaN</td>\n",
       "      <td>NaN</td>\n",
       "      <td>...</td>\n",
       "      <td>2017.000029</td>\n",
       "      <td>6.622585</td>\n",
       "      <td>15.714790</td>\n",
       "      <td>0.787819</td>\n",
       "      <td>15.289123</td>\n",
       "      <td>5.525773</td>\n",
       "      <td>6.805302</td>\n",
       "      <td>1.767093</td>\n",
       "      <td>3.127424</td>\n",
       "      <td>158.257250</td>\n",
       "    </tr>\n",
       "    <tr>\n",
       "      <th>min</th>\n",
       "      <td>2017-01-01 00:15:00</td>\n",
       "      <td>NaN</td>\n",
       "      <td>NaN</td>\n",
       "      <td>NaN</td>\n",
       "      <td>NaN</td>\n",
       "      <td>2017-01-01 00:04:00</td>\n",
       "      <td>NaN</td>\n",
       "      <td>NaN</td>\n",
       "      <td>NaN</td>\n",
       "      <td>NaN</td>\n",
       "      <td>...</td>\n",
       "      <td>2017.000000</td>\n",
       "      <td>1.000000</td>\n",
       "      <td>1.000000</td>\n",
       "      <td>0.000000</td>\n",
       "      <td>-0.360000</td>\n",
       "      <td>0.690000</td>\n",
       "      <td>3.200000</td>\n",
       "      <td>0.830000</td>\n",
       "      <td>1.600000</td>\n",
       "      <td>40.000000</td>\n",
       "    </tr>\n",
       "    <tr>\n",
       "      <th>25%</th>\n",
       "      <td>2017-03-31 12:41:15</td>\n",
       "      <td>NaN</td>\n",
       "      <td>NaN</td>\n",
       "      <td>NaN</td>\n",
       "      <td>NaN</td>\n",
       "      <td>2017-03-31 12:51:15</td>\n",
       "      <td>NaN</td>\n",
       "      <td>NaN</td>\n",
       "      <td>NaN</td>\n",
       "      <td>NaN</td>\n",
       "      <td>...</td>\n",
       "      <td>2017.000000</td>\n",
       "      <td>3.000000</td>\n",
       "      <td>8.000000</td>\n",
       "      <td>0.000000</td>\n",
       "      <td>10.340000</td>\n",
       "      <td>3.060000</td>\n",
       "      <td>4.490000</td>\n",
       "      <td>1.430000</td>\n",
       "      <td>2.770000</td>\n",
       "      <td>139.380000</td>\n",
       "    </tr>\n",
       "    <tr>\n",
       "      <th>50%</th>\n",
       "      <td>2017-07-10 05:30:00</td>\n",
       "      <td>NaN</td>\n",
       "      <td>NaN</td>\n",
       "      <td>NaN</td>\n",
       "      <td>NaN</td>\n",
       "      <td>2017-07-10 05:37:00</td>\n",
       "      <td>NaN</td>\n",
       "      <td>NaN</td>\n",
       "      <td>NaN</td>\n",
       "      <td>NaN</td>\n",
       "      <td>...</td>\n",
       "      <td>2017.000000</td>\n",
       "      <td>7.000000</td>\n",
       "      <td>16.000000</td>\n",
       "      <td>0.000000</td>\n",
       "      <td>15.790000</td>\n",
       "      <td>5.410000</td>\n",
       "      <td>6.910000</td>\n",
       "      <td>1.770000</td>\n",
       "      <td>3.120000</td>\n",
       "      <td>167.380000</td>\n",
       "    </tr>\n",
       "    <tr>\n",
       "      <th>75%</th>\n",
       "      <td>2017-10-08 11:18:45</td>\n",
       "      <td>NaN</td>\n",
       "      <td>NaN</td>\n",
       "      <td>NaN</td>\n",
       "      <td>NaN</td>\n",
       "      <td>2017-10-08 11:19:45</td>\n",
       "      <td>NaN</td>\n",
       "      <td>NaN</td>\n",
       "      <td>NaN</td>\n",
       "      <td>NaN</td>\n",
       "      <td>...</td>\n",
       "      <td>2017.000000</td>\n",
       "      <td>10.000000</td>\n",
       "      <td>23.000000</td>\n",
       "      <td>0.140000</td>\n",
       "      <td>20.660000</td>\n",
       "      <td>8.030000</td>\n",
       "      <td>8.970000</td>\n",
       "      <td>2.060000</td>\n",
       "      <td>3.370000</td>\n",
       "      <td>180.190000</td>\n",
       "    </tr>\n",
       "    <tr>\n",
       "      <th>max</th>\n",
       "      <td>2017-12-31 23:55:00</td>\n",
       "      <td>NaN</td>\n",
       "      <td>NaN</td>\n",
       "      <td>NaN</td>\n",
       "      <td>NaN</td>\n",
       "      <td>2018-01-01 00:12:00</td>\n",
       "      <td>NaN</td>\n",
       "      <td>NaN</td>\n",
       "      <td>NaN</td>\n",
       "      <td>NaN</td>\n",
       "      <td>...</td>\n",
       "      <td>2018.000000</td>\n",
       "      <td>12.000000</td>\n",
       "      <td>31.000000</td>\n",
       "      <td>32.220000</td>\n",
       "      <td>27.300000</td>\n",
       "      <td>9.940000</td>\n",
       "      <td>10.160000</td>\n",
       "      <td>3.500000</td>\n",
       "      <td>7.350000</td>\n",
       "      <td>260.060000</td>\n",
       "    </tr>\n",
       "    <tr>\n",
       "      <th>std</th>\n",
       "      <td>NaN</td>\n",
       "      <td>NaN</td>\n",
       "      <td>NaN</td>\n",
       "      <td>NaN</td>\n",
       "      <td>NaN</td>\n",
       "      <td>NaN</td>\n",
       "      <td>NaN</td>\n",
       "      <td>NaN</td>\n",
       "      <td>NaN</td>\n",
       "      <td>NaN</td>\n",
       "      <td>...</td>\n",
       "      <td>0.005415</td>\n",
       "      <td>3.523321</td>\n",
       "      <td>8.782886</td>\n",
       "      <td>2.717579</td>\n",
       "      <td>6.000062</td>\n",
       "      <td>2.724036</td>\n",
       "      <td>2.285752</td>\n",
       "      <td>0.395127</td>\n",
       "      <td>0.639804</td>\n",
       "      <td>31.213471</td>\n",
       "    </tr>\n",
       "  </tbody>\n",
       "</table>\n",
       "<p>11 rows × 37 columns</p>\n",
       "</div>"
      ],
      "text/plain": [
       "                              Fecha-I  Vlo-I  Ori-I  Des-I  Emp-I  \\\n",
       "count                           68206  68206  68206  68206  68206   \n",
       "unique                            NaN    584      1     64     30   \n",
       "top                               NaN    174   SCEL   SCFA    LAN   \n",
       "freq                              NaN    686  68206   5787  37611   \n",
       "mean    2017-07-05 12:11:25.320059648    NaN    NaN    NaN    NaN   \n",
       "min               2017-01-01 00:15:00    NaN    NaN    NaN    NaN   \n",
       "25%               2017-03-31 12:41:15    NaN    NaN    NaN    NaN   \n",
       "50%               2017-07-10 05:30:00    NaN    NaN    NaN    NaN   \n",
       "75%               2017-10-08 11:18:45    NaN    NaN    NaN    NaN   \n",
       "max               2017-12-31 23:55:00    NaN    NaN    NaN    NaN   \n",
       "std                               NaN    NaN    NaN    NaN    NaN   \n",
       "\n",
       "                              Fecha-O  Vlo-O  Ori-O  Des-O  Emp-O  ...  \\\n",
       "count                           68206  68205  68206  68206  68206  ...   \n",
       "unique                            NaN    861      1     63     32  ...   \n",
       "top                               NaN    174   SCEL   SCFA    LAN  ...   \n",
       "freq                              NaN    649  68206   5786  20988  ...   \n",
       "mean    2017-07-05 12:20:31.971380992    NaN    NaN    NaN    NaN  ...   \n",
       "min               2017-01-01 00:04:00    NaN    NaN    NaN    NaN  ...   \n",
       "25%               2017-03-31 12:51:15    NaN    NaN    NaN    NaN  ...   \n",
       "50%               2017-07-10 05:37:00    NaN    NaN    NaN    NaN  ...   \n",
       "75%               2017-10-08 11:19:45    NaN    NaN    NaN    NaN  ...   \n",
       "max               2018-01-01 00:12:00    NaN    NaN    NaN    NaN  ...   \n",
       "std                               NaN    NaN    NaN    NaN    NaN  ...   \n",
       "\n",
       "                YEAR            MO            DY   PRECTOTCORR           T2M  \\\n",
       "count   68206.000000  68206.000000  68206.000000  68206.000000  68206.000000   \n",
       "unique           NaN           NaN           NaN           NaN           NaN   \n",
       "top              NaN           NaN           NaN           NaN           NaN   \n",
       "freq             NaN           NaN           NaN           NaN           NaN   \n",
       "mean     2017.000029      6.622585     15.714790      0.787819     15.289123   \n",
       "min      2017.000000      1.000000      1.000000      0.000000     -0.360000   \n",
       "25%      2017.000000      3.000000      8.000000      0.000000     10.340000   \n",
       "50%      2017.000000      7.000000     16.000000      0.000000     15.790000   \n",
       "75%      2017.000000     10.000000     23.000000      0.140000     20.660000   \n",
       "max      2018.000000     12.000000     31.000000     32.220000     27.300000   \n",
       "std         0.005415      3.523321      8.782886      2.717579      6.000062   \n",
       "\n",
       "       ALLSKY_SFC_SW_DWN CLRSKY_SFC_SW_DWN          WS2M         WS50M  \\\n",
       "count       68206.000000      68206.000000  68206.000000  68206.000000   \n",
       "unique               NaN               NaN           NaN           NaN   \n",
       "top                  NaN               NaN           NaN           NaN   \n",
       "freq                 NaN               NaN           NaN           NaN   \n",
       "mean            5.525773          6.805302      1.767093      3.127424   \n",
       "min             0.690000          3.200000      0.830000      1.600000   \n",
       "25%             3.060000          4.490000      1.430000      2.770000   \n",
       "50%             5.410000          6.910000      1.770000      3.120000   \n",
       "75%             8.030000          8.970000      2.060000      3.370000   \n",
       "max             9.940000         10.160000      3.500000      7.350000   \n",
       "std             2.724036          2.285752      0.395127      0.639804   \n",
       "\n",
       "               WD50M  \n",
       "count   68206.000000  \n",
       "unique           NaN  \n",
       "top              NaN  \n",
       "freq             NaN  \n",
       "mean      158.257250  \n",
       "min        40.000000  \n",
       "25%       139.380000  \n",
       "50%       167.380000  \n",
       "75%       180.190000  \n",
       "max       260.060000  \n",
       "std        31.213471  \n",
       "\n",
       "[11 rows x 37 columns]"
      ]
     },
     "execution_count": 20,
     "metadata": {},
     "output_type": "execute_result"
    }
   ],
   "source": [
    "# Análisis exploratorio de datos\n",
    "\n",
    "result.describe(include='all', datetime_is_numeric=True)"
   ]
  },
  {
   "cell_type": "code",
   "execution_count": 21,
   "id": "4d949880",
   "metadata": {},
   "outputs": [],
   "source": [
    "#Preparando los datos para el entrenamiento se elmina 'dif_min' para evitar colinealidad\n",
    "\n",
    "df_atraso= result[['atraso_15','temporada_alta','periodo_dia2','PRECTOTCORR','T2M','CLRSKY_SFC_SW_DWN', 'WS50M', 'WD50M']]"
   ]
  },
  {
   "cell_type": "markdown",
   "id": "7c660331",
   "metadata": {},
   "source": [
    "### Entrenamiento del modelo"
   ]
  },
  {
   "cell_type": "code",
   "execution_count": 22,
   "id": "b7d3663c",
   "metadata": {},
   "outputs": [],
   "source": [
    "# Generación del set de datos de las varibales explicativas y la variable respuesta\n",
    "\n",
    "X = df_atraso.iloc[:, [1, 2,3,4,5,6,7]].values\n",
    "y = df_atraso.iloc[:, 0].values"
   ]
  },
  {
   "cell_type": "code",
   "execution_count": 23,
   "id": "95d50c4b",
   "metadata": {},
   "outputs": [],
   "source": [
    "# Obtención de las muestra de entrenamieto y validación\n",
    "\n",
    "from sklearn.model_selection import train_test_split\n",
    "X_train, X_test, y_train, y_test = train_test_split(X, y, test_size = 0.3, random_state = 0)"
   ]
  },
  {
   "cell_type": "code",
   "execution_count": 24,
   "id": "2be34332",
   "metadata": {},
   "outputs": [],
   "source": [
    "# Estandarización de los datos tomando como parámetros la media y desviación estandar\n",
    "\n",
    "from sklearn.preprocessing import StandardScaler\n",
    "sc = StandardScaler()\n",
    "X_train = sc.fit_transform(X_train)\n",
    "X_test = sc.transform(X_test)"
   ]
  },
  {
   "cell_type": "markdown",
   "id": "5d1807e7",
   "metadata": {},
   "source": [
    "### Performance y evaluación del modelo"
   ]
  },
  {
   "cell_type": "code",
   "execution_count": 25,
   "id": "1f75b162",
   "metadata": {},
   "outputs": [
    {
     "data": {
      "text/plain": [
       "RandomForestClassifier(criterion='entropy', n_estimators=10, random_state=0)"
      ]
     },
     "execution_count": 25,
     "metadata": {},
     "output_type": "execute_result"
    }
   ],
   "source": [
    "# Ajuste de un modelo Random Forest\n",
    "\n",
    "from sklearn.ensemble import RandomForestClassifier\n",
    "classifier = RandomForestClassifier(n_estimators = 10, criterion = 'entropy', random_state = 0)\n",
    "classifier.fit(X_train, y_train)"
   ]
  },
  {
   "cell_type": "code",
   "execution_count": 26,
   "id": "7ce4923e",
   "metadata": {},
   "outputs": [],
   "source": [
    "# Cálculo de la predicción del modelo\n",
    "\n",
    "y_pred = classifier.predict(X_test)"
   ]
  },
  {
   "cell_type": "code",
   "execution_count": 27,
   "id": "047ba9e2",
   "metadata": {},
   "outputs": [
    {
     "name": "stdout",
     "output_type": "stream",
     "text": [
      "\n",
      "El accuracy de test es: 81.65868439057765%\n"
     ]
    }
   ],
   "source": [
    "# Precisión del modelo \n",
    "# ==============================================================================\n",
    "from sklearn.metrics import accuracy_score\n",
    "accuracy = accuracy_score(\n",
    "            y_true    = y_test,\n",
    "            y_pred    = y_pred,\n",
    "            normalize = True\n",
    "           )\n",
    "print(\"\")\n",
    "print(f\"El accuracy de test es: {100*accuracy}%\")"
   ]
  },
  {
   "cell_type": "code",
   "execution_count": 28,
   "id": "6be91c48",
   "metadata": {},
   "outputs": [
    {
     "data": {
      "text/plain": [
       "array([[16523,   127],\n",
       "       [ 3626,   186]], dtype=int64)"
      ]
     },
     "execution_count": 28,
     "metadata": {},
     "output_type": "execute_result"
    }
   ],
   "source": [
    "# Making the Confusion Matrix\n",
    "from sklearn.metrics import confusion_matrix\n",
    "cm1 = confusion_matrix(y_test, y_pred)\n",
    "cm1"
   ]
  },
  {
   "cell_type": "code",
   "execution_count": 29,
   "id": "6aa7bf08",
   "metadata": {},
   "outputs": [
    {
     "data": {
      "text/plain": [
       "BernoulliNB()"
      ]
     },
     "execution_count": 29,
     "metadata": {},
     "output_type": "execute_result"
    }
   ],
   "source": [
    "# Ajuste de un modelo Bernoulli Nayive Bayes \n",
    "\n",
    "from sklearn.naive_bayes import BernoulliNB\n",
    "model = BernoulliNB()\n",
    "model.fit(X_train, y_train)\n",
    "\n"
   ]
  },
  {
   "cell_type": "code",
   "execution_count": 30,
   "id": "ddeb385f",
   "metadata": {},
   "outputs": [
    {
     "data": {
      "text/plain": [
       "array([0, 0, 0, 0, 0, 0, 0, 0])"
      ]
     },
     "execution_count": 30,
     "metadata": {},
     "output_type": "execute_result"
    }
   ],
   "source": [
    "# Resultados predicción del modelo Bernoulli Nayive Bayes\n",
    "y_pred2 = classifier.predict(X_test)\n",
    "y_pred[-8:].round(2)"
   ]
  },
  {
   "cell_type": "code",
   "execution_count": 31,
   "id": "04b4adbf",
   "metadata": {},
   "outputs": [
    {
     "name": "stdout",
     "output_type": "stream",
     "text": [
      "\n",
      "El accuracy de test es: 81.65868439057765%\n"
     ]
    }
   ],
   "source": [
    "# Precisión del modelo Bernoulli Nayive Bayes \n",
    "# ==============================================================================\n",
    "from sklearn.metrics import accuracy_score\n",
    "accuracy = accuracy_score(\n",
    "            y_true    = y_test,\n",
    "            y_pred    = y_pred2,\n",
    "            normalize = True\n",
    "           )\n",
    "print(\"\")\n",
    "print(f\"El accuracy de test es: {100*accuracy}%\")"
   ]
  },
  {
   "cell_type": "code",
   "execution_count": 32,
   "id": "6a40396a",
   "metadata": {},
   "outputs": [
    {
     "data": {
      "text/plain": [
       "array([[16523,   127],\n",
       "       [ 3626,   186]], dtype=int64)"
      ]
     },
     "execution_count": 32,
     "metadata": {},
     "output_type": "execute_result"
    }
   ],
   "source": [
    "# Matriz de Confusion Bernoulli Nayive Bayes\n",
    "from sklearn.metrics import confusion_matrix\n",
    "cm2 = confusion_matrix(y_test, y_pred2)\n",
    "cm2"
   ]
  },
  {
   "cell_type": "code",
   "execution_count": 33,
   "id": "c19cc715",
   "metadata": {},
   "outputs": [
    {
     "data": {
      "text/plain": [
       "array([[-0.69,  0.15, -0.25, -0.86, -1.38, -0.01, -1.42],\n",
       "       [-0.69, -1.13, -0.29,  0.13, -0.76, -0.39, -0.52],\n",
       "       [-0.69,  0.15,  0.4 , -1.68, -1.28,  2.45,  1.9 ],\n",
       "       [-0.69,  1.43,  0.09,  0.46, -0.11, -0.56,  1.02],\n",
       "       [ 1.44,  0.15, -0.29,  1.33,  1.35,  0.74,  0.73],\n",
       "       [-0.69, -1.13,  0.87, -0.61, -1.05, -1.53, -1.52],\n",
       "       [ 1.44,  1.43, -0.29,  1.37,  1.47,  0.9 ,  0.79],\n",
       "       [-0.69,  1.43, -0.28, -0.86,  0.45, -0.72,  0.47]])"
      ]
     },
     "execution_count": 33,
     "metadata": {},
     "output_type": "execute_result"
    }
   ],
   "source": [
    "# Parámetros del modelo Bernoulli Nayive Bayes\n",
    "\n",
    "yprob = model.predict_proba(X_test)\n",
    "X_test[-8:].round(2)\n"
   ]
  },
  {
   "cell_type": "code",
   "execution_count": 34,
   "id": "e0e2443e",
   "metadata": {},
   "outputs": [
    {
     "data": {
      "text/plain": [
       "array([[0.79, 0.21],\n",
       "       [0.86, 0.14],\n",
       "       [0.78, 0.22],\n",
       "       [0.83, 0.17],\n",
       "       [0.8 , 0.2 ],\n",
       "       [0.82, 0.18],\n",
       "       [0.8 , 0.2 ],\n",
       "       [0.81, 0.19]])"
      ]
     },
     "execution_count": 34,
     "metadata": {},
     "output_type": "execute_result"
    }
   ],
   "source": [
    "# Resultados de la Probabilidad del modelo Bernoulli Nayive Bayes\n",
    "\n",
    "yprob[-8:].round(2)"
   ]
  },
  {
   "cell_type": "code",
   "execution_count": 35,
   "id": "be4a4662",
   "metadata": {},
   "outputs": [
    {
     "name": "stdout",
     "output_type": "stream",
     "text": [
      "       atraso_15  temporada_alta periodo_dia2  PRECTOTCORR    T2M  \\\n",
      "0              0               1            3         0.00  22.72   \n",
      "1              0               1            3         0.00  23.04   \n",
      "2              0               1            3         0.00  21.57   \n",
      "3              0               1            3         0.00  21.87   \n",
      "4              0               1            3         0.00  23.25   \n",
      "...          ...             ...          ...          ...    ...   \n",
      "68193          1               1            2         0.02  19.99   \n",
      "68194          0               1            3         0.00  23.43   \n",
      "68195          0               1            3         1.13  21.04   \n",
      "68196          0               1            3         0.00  22.61   \n",
      "68197          0               1            3         0.00  22.20   \n",
      "\n",
      "       CLRSKY_SFC_SW_DWN  WS50M   WD50M  \n",
      "0                   9.83   3.02  183.62  \n",
      "1                   9.91   3.14  181.06  \n",
      "2                   9.90   3.37  184.06  \n",
      "3                   9.98   3.17  179.19  \n",
      "4                   9.84   3.30  182.31  \n",
      "...                  ...    ...     ...  \n",
      "68193               9.62   2.90  196.31  \n",
      "68194               9.66   3.18  170.88  \n",
      "68195               9.89   3.30  177.56  \n",
      "68196               9.80   2.81  187.94  \n",
      "68197              10.09   3.23  180.00  \n",
      "\n",
      "[68198 rows x 8 columns]\n"
     ]
    }
   ],
   "source": [
    "print(df_atraso.head(-8))"
   ]
  },
  {
   "cell_type": "markdown",
   "id": "3f22ac1c",
   "metadata": {},
   "source": [
    "## ¿Por qué elegiste ese algoritmo en particular?"
   ]
  },
  {
   "cell_type": "markdown",
   "id": "8941313d",
   "metadata": {},
   "source": [
    "La regresión logística, random Forest y Nayive Bayes son modelos que se sustentan en el modelamiento de las probabilidades y es uno de los algoritmos más utilizados para clasificación en la industria, Sebastian Raschka, Vahid Mirjalili.(2019), p. 81. \n",
    "\n"
   ]
  },
  {
   "cell_type": "markdown",
   "id": "d9be5a80",
   "metadata": {},
   "source": [
    "## ¿Qué variables son las que más influyen en la predicción?"
   ]
  },
  {
   "cell_type": "code",
   "execution_count": 36,
   "id": "891414c9",
   "metadata": {},
   "outputs": [
    {
     "data": {
      "text/plain": [
       "array([[1, '2', 0.46, 22.13, 3.08],\n",
       "       [1, '2', 0.0, 22.61, 3.58],\n",
       "       [1, '2', 0.04, 23.36, 3.04],\n",
       "       [1, '2', 0.46, 22.13, 3.08],\n",
       "       [1, '2', 0.0, 22.61, 2.81],\n",
       "       [1, '2', 0.24, 21.88, 3.39],\n",
       "       [1, '2', 0.0, 22.61, 3.58],\n",
       "       [1, '2', 0.02, 19.99, 2.9]], dtype=object)"
      ]
     },
     "execution_count": 36,
     "metadata": {},
     "output_type": "execute_result"
    }
   ],
   "source": [
    "#Vamos a seleccionar las variables que tengan mejor test ANOVA (se manejan valores negativo, por lo tanto se precinde de la distribución Chi)\n",
    "\n",
    "from sklearn.feature_selection import SelectKBest, f_classif\n",
    "X_new = SelectKBest(f_classif, k=5).fit_transform(X, y)\n",
    "X_new[-8:]"
   ]
  },
  {
   "cell_type": "markdown",
   "id": "7972d405",
   "metadata": {},
   "source": [
    "De acuerdo al test las variables que más influyen son:\n",
    "- Temporada del año \n",
    "- Periodo del día\n",
    "- Precipitación\n",
    "- Temperatura\n",
    "- Velocidad del viento en 50 metros"
   ]
  },
  {
   "cell_type": "markdown",
   "id": "4e0885a1",
   "metadata": {},
   "source": [
    "### Comparación entre modelos"
   ]
  },
  {
   "cell_type": "code",
   "execution_count": null,
   "id": "cf9cc19d",
   "metadata": {},
   "outputs": [
    {
     "name": "stdout",
     "output_type": "stream",
     "text": [
      "LOR: 0.815642 -0.474815 (0.002430) (0.003630)\n",
      "LDA: 0.815663 -0.474858 (0.002417) (0.003664)\n",
      "QDA: 0.799598 -0.590172 (0.005677) (0.028465)\n",
      "GBC: 0.816207 -0.463215 (0.002450) (0.004111)\n",
      "KNC: 0.788685 -2.329461 (0.006335) (0.086352)\n",
      "MLPC: 0.815872 -0.473681 (0.002601) (0.003213)\n",
      "BNB: 0.815935 -0.477140 (0.002680) (0.003827)\n",
      "GNB: 0.793398 -0.607146 (0.004452) (0.029479)\n",
      "DTC: 0.817192 -0.508896 (0.003080) (0.011255)\n",
      "RFC: 0.817066 -0.507785 (0.003194) (0.011334)\n",
      "ETC: 0.817192 -0.508908 (0.003080) (0.011260)\n",
      "ABC: 0.815369 -0.683404 (0.002617) (0.000068)\n"
     ]
    }
   ],
   "source": [
    "#Generando las muestras de entrenamiento y validación con las variables seleccionadas\n",
    "X_train, X_validation, Y_train, Y_validation = train_test_split(X_new, y, test_size= 0.3, random_state = 0)\n",
    "\n",
    "from sklearn import model_selection\n",
    "from sklearn.linear_model import LogisticRegression\n",
    "from sklearn.tree import DecisionTreeClassifier\n",
    "from sklearn.neighbors import KNeighborsClassifier\n",
    "from sklearn.discriminant_analysis import LinearDiscriminantAnalysis, QuadraticDiscriminantAnalysis\n",
    "from sklearn.naive_bayes import GaussianNB, BernoulliNB\n",
    "from sklearn.ensemble import RandomForestClassifier, AdaBoostClassifier, ExtraTreesClassifier, GradientBoostingClassifier \n",
    "from sklearn.neural_network import MLPClassifier\n",
    "from sklearn.svm import SVC\n",
    "\n",
    "scoring = ['accuracy', 'neg_log_loss']\n",
    "\n",
    "models = []\n",
    "models.append(('LOR', LogisticRegression()))\n",
    "models.append(('LDA', LinearDiscriminantAnalysis()))\n",
    "models.append(('QDA', QuadraticDiscriminantAnalysis()))\n",
    "models.append(('GBC', GradientBoostingClassifier()))\n",
    "models.append(('KNC', KNeighborsClassifier()))\n",
    "models.append(('MLPC', MLPClassifier()))\n",
    "models.append(('BNB', BernoulliNB()))\n",
    "models.append(('GNB', GaussianNB()))\n",
    "models.append(('DTC', DecisionTreeClassifier()))\n",
    "models.append(('RFC', RandomForestClassifier()))\n",
    "models.append(('ETC', ExtraTreesClassifier()))\n",
    "models.append(('ABC', AdaBoostClassifier()))\n",
    "models.append(('SVC', SVC(probability=True)))\n",
    "\n",
    "seed=0\n",
    "results1 = []\n",
    "names = []\n",
    "kfold = model_selection.KFold(n_splits=5, shuffle=True, random_state=seed)\n",
    "for name, model in models:    \n",
    "    cv_results = model_selection.cross_validate(model, X_train, Y_train, cv=kfold, scoring=scoring)\n",
    "    results1.append(cv_results)\n",
    "    names.append(name)\n",
    "    msg = \"%s: %f %f (%f) (%f)\" % (name, cv_results['test_accuracy'].mean(), cv_results['test_neg_log_loss'].mean() , cv_results['test_accuracy'].std(), cv_results['test_neg_log_loss'].std())\n",
    "    print(msg)"
   ]
  },
  {
   "cell_type": "markdown",
   "id": "c4886e6d",
   "metadata": {},
   "source": [
    "Los clasificadores más idóneos tienen valores progresivamente más pequeños de Log loss. Por lo tanto, el clasificador con menor Log loss tiene una mejor precisión. En este caso el modelo \"AdaBoostClassifier\" presenta uno de los Log loss de menor valor y de varianza más baja."
   ]
  },
  {
   "cell_type": "markdown",
   "id": "56c0a0e5",
   "metadata": {},
   "source": [
    "## ¿Cómo podrías mejorar la performance?"
   ]
  },
  {
   "cell_type": "markdown",
   "id": "1c6fa091",
   "metadata": {},
   "source": [
    "Los modelos se pueden mejorar optimizando los parametros que implementan lsu definición. Tambien, para este ejercicio incluyendo la variable \"OPERA\", que es el tipo de aerolinea que opera, y que en el análisis de datos se oberva que sus datos tienen alta variabilidad lo cual puede incidir en mejorar el ajuste del modelo."
   ]
  },
  {
   "cell_type": "markdown",
   "id": "0c1a915c",
   "metadata": {},
   "source": [
    "## Bibliografía"
   ]
  },
  {
   "cell_type": "markdown",
   "id": "054124ec",
   "metadata": {},
   "source": [
    "Sebastian Raschka, Vahid Mirjalili.(2019). Python Machine Learning, Editorial: MARCOMBO IMPORTACION."
   ]
  },
  {
   "cell_type": "code",
   "execution_count": null,
   "id": "ea7181e1",
   "metadata": {},
   "outputs": [],
   "source": []
  }
 ],
 "metadata": {
  "kernelspec": {
   "display_name": "Python 3 (ipykernel)",
   "language": "python",
   "name": "python3"
  },
  "language_info": {
   "codemirror_mode": {
    "name": "ipython",
    "version": 3
   },
   "file_extension": ".py",
   "mimetype": "text/x-python",
   "name": "python",
   "nbconvert_exporter": "python",
   "pygments_lexer": "ipython3",
   "version": "3.9.12"
  }
 },
 "nbformat": 4,
 "nbformat_minor": 5
}
